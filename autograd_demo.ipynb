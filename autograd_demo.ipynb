{
 "cells": [
  {
   "cell_type": "code",
   "execution_count": 1,
   "metadata": {},
   "outputs": [],
   "source": [
    "import autograd.numpy as np\n",
    "from autograd import grad # 求导函数"
   ]
  },
  {
   "cell_type": "markdown",
   "metadata": {},
   "source": [
    "### 1、标量函数"
   ]
  },
  {
   "cell_type": "code",
   "execution_count": 2,
   "metadata": {},
   "outputs": [],
   "source": [
    "def func1(x):\n",
    "    return np.exp(x)"
   ]
  },
  {
   "cell_type": "code",
   "execution_count": 3,
   "metadata": {},
   "outputs": [],
   "source": [
    "grad_func1 = grad(func1)"
   ]
  },
  {
   "cell_type": "code",
   "execution_count": 4,
   "metadata": {},
   "outputs": [
    {
     "data": {
      "text/plain": [
       "function"
      ]
     },
     "execution_count": 4,
     "metadata": {},
     "output_type": "execute_result"
    }
   ],
   "source": [
    "type(grad_func1)"
   ]
  },
  {
   "cell_type": "code",
   "execution_count": 5,
   "metadata": {},
   "outputs": [
    {
     "data": {
      "text/plain": [
       "4.4816890703380645"
      ]
     },
     "execution_count": 5,
     "metadata": {},
     "output_type": "execute_result"
    }
   ],
   "source": [
    "x1 = 1.5\n",
    "\n",
    "func1(x1)"
   ]
  },
  {
   "cell_type": "code",
   "execution_count": 6,
   "metadata": {},
   "outputs": [
    {
     "data": {
      "text/plain": [
       "0.0"
      ]
     },
     "execution_count": 6,
     "metadata": {},
     "output_type": "execute_result"
    }
   ],
   "source": [
    "grad_func1(x1) - func1(x1) # 检验grad"
   ]
  },
  {
   "cell_type": "markdown",
   "metadata": {},
   "source": [
    "### 2、多变量函数\n",
    "`func2`\n",
    "\n",
    "$$\n",
    "f(x) = sum\\sum_{i=1}^{n} x_i^2\n",
    "$$\n",
    "\n",
    "导数\n",
    "\n",
    "$$\n",
    "\\frac{\\partial f(x)}{\\partial x} = 2x\n",
    "$$"
   ]
  },
  {
   "cell_type": "code",
   "execution_count": 7,
   "metadata": {},
   "outputs": [],
   "source": [
    "def func2(x):\n",
    "    return np.sum(x**2)\n",
    "\n",
    "grad_func2 = grad(func2)"
   ]
  },
  {
   "cell_type": "code",
   "execution_count": 10,
   "metadata": {},
   "outputs": [],
   "source": [
    "x_vec = np.random.rand(5)\n",
    "# x_vec = np.random.rand(5).reshape(-1,1)\n",
    "\n",
    "x_vec_grad = grad_func2(x_vec)"
   ]
  },
  {
   "cell_type": "code",
   "execution_count": 11,
   "metadata": {},
   "outputs": [
    {
     "name": "stdout",
     "output_type": "stream",
     "text": [
      "[1.7972035  0.56417078 0.25108349 1.02758103 0.22230946]\n",
      "[1.7972035  0.56417078 0.25108349 1.02758103 0.22230946]\n"
     ]
    }
   ],
   "source": [
    "print(x_vec_grad)\n",
    "print(2 * x_vec)"
   ]
  },
  {
   "cell_type": "markdown",
   "metadata": {},
   "source": [
    "### loss function\n",
    "\n",
    "$$\n",
    "\\ell(x) = \\| x w - y \\|^2\n",
    "$$\n",
    "\n",
    "多变量函数，输出是标量（scalar-output function）"
   ]
  },
  {
   "cell_type": "code",
   "execution_count": 12,
   "metadata": {},
   "outputs": [],
   "source": [
    "# wrapper\n",
    "\n",
    "# X @ w\n",
    "\n",
    "def loss_lin(w,X,y):\n",
    "    return np.mean((X @ w -y)**2)\n",
    "\n",
    "grad_loss_lin = grad(loss_lin)"
   ]
  },
  {
   "cell_type": "code",
   "execution_count": 13,
   "metadata": {},
   "outputs": [],
   "source": [
    "# test\n",
    "N = 10\n",
    "X = np.concatenate((np.linspace(-1,1,10).reshape(-1,1),np.ones([10,1])),axis=1)\n",
    "w = np.array([3,-1])\n",
    "y = X @ w\n"
   ]
  },
  {
   "cell_type": "code",
   "execution_count": 16,
   "metadata": {},
   "outputs": [
    {
     "data": {
      "text/plain": [
       "array([-2.16812115,  2.22543205])"
      ]
     },
     "execution_count": 16,
     "metadata": {},
     "output_type": "execute_result"
    }
   ],
   "source": [
    "w1 = np.random.rand(2)\n",
    "\n",
    "grad_loss_lin(w1,X,y)"
   ]
  },
  {
   "cell_type": "code",
   "execution_count": 26,
   "metadata": {},
   "outputs": [
    {
     "name": "stdout",
     "output_type": "stream",
     "text": [
      "[ 3 -1]\n",
      "[ 2.99945111 -1.        ]\n"
     ]
    }
   ],
   "source": [
    "w1 = np.random.rand(2)\n",
    "lr = 0.1\n",
    "\n",
    "loss_list = []\n",
    "w1_list = []\n",
    "\n",
    "for i in range(100):\n",
    "    w1 = w1 -lr * grad_loss_lin(w1,X,y)\n",
    "    \n",
    "    loss_list.append(loss_lin(w1,X,y))\n",
    "    w1_list.append(w1)\n",
    "\n",
    "print(w)\n",
    "print(w1)"
   ]
  },
  {
   "cell_type": "code",
   "execution_count": 27,
   "metadata": {},
   "outputs": [
    {
     "data": {
      "image/png": "[encoded data removed]",
      "text/plain": [
       "<Figure size 432x288 with 1 Axes>"
      ]
     },
     "metadata": {
      "needs_background": "light"
     },
     "output_type": "display_data"
    },
    {
     "data": {
      "image/png": "[encoded data removed]",
      "text/plain": [
       "<Figure size 432x288 with 1 Axes>"
      ]
     },
     "metadata": {
      "needs_background": "light"
     },
     "output_type": "display_data"
    }
   ],
   "source": [
    "import matplotlib.pyplot as plt\n",
    "\n",
    "# loss_function\n",
    "plt.figure()\n",
    "plt.plot(loss_list)\n",
    "plt.show()\n",
    "\n",
    "plt.figure()\n",
    "plt.plot(w1_list)\n",
    "plt.legend(['w1','w2'])\n",
    "plt.show()"
   ]
  }
 ],
 "metadata": {
  "kernelspec": {
   "display_name": "Python 3.9.7 ('base')",
   "language": "python",
   "name": "python3"
  },
  "language_info": {
   "codemirror_mode": {
    "name": "ipython",
    "version": 3
   },
   "file_extension": ".py",
   "mimetype": "text/x-python",
   "name": "python",
   "nbconvert_exporter": "python",
   "pygments_lexer": "ipython3",
   "version": "3.9.7"
  },
  "orig_nbformat": 4,
  "vscode": {
   "interpreter": {
    "hash": "3d0f97370f938c1a2e04bb69ea59b6c8fdcecf5bf4b355e2aff859ce31869b5c"
   }
  }
 },
 "nbformat": 4,
 "nbformat_minor": 2
}
